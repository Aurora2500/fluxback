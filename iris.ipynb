{
 "cells": [
  {
   "cell_type": "code",
   "execution_count": 1,
   "metadata": {},
   "outputs": [],
   "source": [
    "import fluxback as fb\n",
    "import numpy as np\n",
    "import pandas as pd\n",
    "from sklearn.model_selection import train_test_split\n",
    "from sklearn.preprocessing import OneHotEncoder"
   ]
  },
  {
   "cell_type": "code",
   "execution_count": 2,
   "metadata": {},
   "outputs": [
    {
     "data": {
      "text/html": [
       "<div>\n",
       "<style scoped>\n",
       "    .dataframe tbody tr th:only-of-type {\n",
       "        vertical-align: middle;\n",
       "    }\n",
       "\n",
       "    .dataframe tbody tr th {\n",
       "        vertical-align: top;\n",
       "    }\n",
       "\n",
       "    .dataframe thead th {\n",
       "        text-align: right;\n",
       "    }\n",
       "</style>\n",
       "<table border=\"1\" class=\"dataframe\">\n",
       "  <thead>\n",
       "    <tr style=\"text-align: right;\">\n",
       "      <th></th>\n",
       "      <th>sepal.length</th>\n",
       "      <th>sepal.width</th>\n",
       "      <th>petal.length</th>\n",
       "      <th>petal.width</th>\n",
       "      <th>variety</th>\n",
       "    </tr>\n",
       "  </thead>\n",
       "  <tbody>\n",
       "    <tr>\n",
       "      <th>0</th>\n",
       "      <td>5.1</td>\n",
       "      <td>3.5</td>\n",
       "      <td>1.4</td>\n",
       "      <td>0.2</td>\n",
       "      <td>Setosa</td>\n",
       "    </tr>\n",
       "    <tr>\n",
       "      <th>1</th>\n",
       "      <td>4.9</td>\n",
       "      <td>3.0</td>\n",
       "      <td>1.4</td>\n",
       "      <td>0.2</td>\n",
       "      <td>Setosa</td>\n",
       "    </tr>\n",
       "    <tr>\n",
       "      <th>2</th>\n",
       "      <td>4.7</td>\n",
       "      <td>3.2</td>\n",
       "      <td>1.3</td>\n",
       "      <td>0.2</td>\n",
       "      <td>Setosa</td>\n",
       "    </tr>\n",
       "    <tr>\n",
       "      <th>3</th>\n",
       "      <td>4.6</td>\n",
       "      <td>3.1</td>\n",
       "      <td>1.5</td>\n",
       "      <td>0.2</td>\n",
       "      <td>Setosa</td>\n",
       "    </tr>\n",
       "    <tr>\n",
       "      <th>4</th>\n",
       "      <td>5.0</td>\n",
       "      <td>3.6</td>\n",
       "      <td>1.4</td>\n",
       "      <td>0.2</td>\n",
       "      <td>Setosa</td>\n",
       "    </tr>\n",
       "  </tbody>\n",
       "</table>\n",
       "</div>"
      ],
      "text/plain": [
       "   sepal.length  sepal.width  petal.length  petal.width variety\n",
       "0           5.1          3.5           1.4          0.2  Setosa\n",
       "1           4.9          3.0           1.4          0.2  Setosa\n",
       "2           4.7          3.2           1.3          0.2  Setosa\n",
       "3           4.6          3.1           1.5          0.2  Setosa\n",
       "4           5.0          3.6           1.4          0.2  Setosa"
      ]
     },
     "execution_count": 2,
     "metadata": {},
     "output_type": "execute_result"
    }
   ],
   "source": [
    "data = pd.read_csv(\"iris.csv\")\n",
    "data.head()"
   ]
  },
  {
   "cell_type": "code",
   "execution_count": 3,
   "metadata": {},
   "outputs": [
    {
     "data": {
      "text/plain": [
       "((150, 4), (150,))"
      ]
     },
     "execution_count": 3,
     "metadata": {},
     "output_type": "execute_result"
    }
   ],
   "source": [
    "X = data.iloc[:, :4].to_numpy()\n",
    "y = data.iloc[:, 4].to_numpy()\n",
    "\n",
    "X.shape, y.shape"
   ]
  },
  {
   "cell_type": "code",
   "execution_count": 4,
   "metadata": {},
   "outputs": [
    {
     "name": "stderr",
     "output_type": "stream",
     "text": [
      "/home/aurora/miniconda3/lib/python3.11/site-packages/sklearn/preprocessing/_encoders.py:972: FutureWarning: `sparse` was renamed to `sparse_output` in version 1.2 and will be removed in 1.4. `sparse_output` is ignored unless you leave `sparse` to its default value.\n",
      "  warnings.warn(\n"
     ]
    },
    {
     "data": {
      "text/plain": [
       "[array(['Setosa', 'Versicolor', 'Virginica'], dtype=object)]"
      ]
     },
     "execution_count": 4,
     "metadata": {},
     "output_type": "execute_result"
    }
   ],
   "source": [
    "ohe = OneHotEncoder(sparse=False)\n",
    "ohe.fit(y[:, None])\n",
    "\n",
    "ohe.categories_"
   ]
  },
  {
   "cell_type": "code",
   "execution_count": 5,
   "metadata": {},
   "outputs": [
    {
     "data": {
      "text/plain": [
       "array([[1., 0., 0.],\n",
       "       [0., 1., 0.],\n",
       "       [0., 0., 1.]])"
      ]
     },
     "execution_count": 5,
     "metadata": {},
     "output_type": "execute_result"
    }
   ],
   "source": [
    "ohe.transform([['Setosa'], ['Versicolor'], ['Virginica']])"
   ]
  },
  {
   "cell_type": "code",
   "execution_count": 6,
   "metadata": {},
   "outputs": [],
   "source": [
    "y_enc = ohe.transform(y[:, None])"
   ]
  },
  {
   "cell_type": "code",
   "execution_count": 7,
   "metadata": {},
   "outputs": [
    {
     "data": {
      "text/plain": [
       "((120, 4), (30, 4), (120,), (30,))"
      ]
     },
     "execution_count": 7,
     "metadata": {},
     "output_type": "execute_result"
    }
   ],
   "source": [
    "X_train, X_test, y_train, y_test = train_test_split(X, y, test_size=0.2, random_state=42)\n",
    "X_train.shape, X_test.shape, y_train.shape, y_test.shape"
   ]
  },
  {
   "cell_type": "code",
   "execution_count": 110,
   "metadata": {},
   "outputs": [],
   "source": [
    "fc1_weights = fb.Tensor.randn((4, 32), requires_grad=True)\n",
    "fc1_weights.autodiff_role = \"Weight 1\"\n",
    "fc1_bias = fb.Tensor.randn((32,), requires_grad=True)\n",
    "fc1_bias.autodiff_role = \"Bias 1\"\n",
    "fc2_weights = fb.Tensor.randn((32,3), requires_grad=True)\n",
    "fc2_weights.autodiff_role = \"Weight 2\"\n",
    "fc2_bias = fb.Tensor.randn((3,), requires_grad=True)\n",
    "fc2_bias.autodiff_role = \"Bias 2\""
   ]
  },
  {
   "cell_type": "code",
   "execution_count": 121,
   "metadata": {},
   "outputs": [],
   "source": [
    "from collections import defaultdict\n",
    "from sklearn.utils import gen_batches\n",
    "history = defaultdict(list)\n",
    "epochs = 5\n",
    "lr = 1\n",
    "relu = fb.activation.LeakyReLU()\n",
    "softmax = fb.activation.SoftMax()\n",
    "\n",
    "y_train_ohe = ohe.transform(y_train[:,None])\n",
    "\n",
    "for i in range(epochs):\n",
    "\tfor j, batch in enumerate(gen_batches(X_train.shape[0], 5)):\n",
    "\t\tX_batch = X_train[batch]\n",
    "\t\ty_batch = y_train_ohe[batch]\n",
    "\t\tx1 = fb.Tensor(X_train) @ fc1_weights + fc1_bias\n",
    "\t\ty1 = relu(x1)\n",
    "\t\tx2 = x1 @ fc2_weights + fc2_bias\n",
    "\t\ty2 = softmax(x2)\n",
    "\n",
    "\t\tloss = - (y2.log() * y_train_ohe).sum()\n",
    "\t\t\n",
    "\n",
    "\t\thistory['epoch'].append(i*20 + j)\n",
    "\t\thistory['loss'].append(loss.values)\n",
    "\t\tact_label = np.argmax(y2.values, axis=1)\n",
    "\t\tpred_label = np.argmax(y_train_ohe, axis=1)\n",
    "\t\thistory['accuracy'].append((act_label == pred_label).mean())\n",
    "\n",
    "\t\tloss.zero()\n",
    "\t\tloss.back()\n",
    "\t\tfc1_weights -= (lr * fc1_weights.grad)\n",
    "\t\tfc1_bias -= (lr * fc1_bias.grad)\n",
    "\t\tfc2_weights -= (lr * fc2_weights.grad)\n",
    "\t\tfc2_bias -= (lr * fc2_bias.grad)"
   ]
  },
  {
   "cell_type": "code",
   "execution_count": 122,
   "metadata": {},
   "outputs": [
    {
     "data": {
      "text/plain": [
       "[<matplotlib.lines.Line2D at 0x7f9291a09910>]"
      ]
     },
     "execution_count": 122,
     "metadata": {},
     "output_type": "execute_result"
    },
    {
     "data": {
      "image/png": "[encoded data removed]",
      "text/plain": [
       "<Figure size 640x480 with 1 Axes>"
      ]
     },
     "metadata": {},
     "output_type": "display_data"
    }
   ],
   "source": [
    "import matplotlib.pyplot as plt\n",
    "\n",
    "plt.plot(history['epoch'], history['loss'])"
   ]
  },
  {
   "cell_type": "code",
   "execution_count": 125,
   "metadata": {},
   "outputs": [
    {
     "data": {
      "image/svg+xml": [
       "<?xml version=\"1.0\" encoding=\"UTF-8\" standalone=\"no\"?>\n",
       "<!DOCTYPE svg PUBLIC \"-//W3C//DTD SVG 1.1//EN\"\n",
       " \"http://www.w3.org/Graphics/SVG/1.1/DTD/svg11.dtd\">\n",
       "<!-- Generated by graphviz version 9.0.0 (0)\n",
       " -->\n",
       "<!-- Pages: 1 -->\n",
       "<svg width=\"395pt\" height=\"692pt\"\n",
       " viewBox=\"0.00 0.00 395.32 692.00\" xmlns=\"http://www.w3.org/2000/svg\" xmlns:xlink=\"http://www.w3.org/1999/xlink\">\n",
       "<g id=\"graph0\" class=\"graph\" transform=\"scale(1 1) rotate(0) translate(4 688)\">\n",
       "<polygon fill=\"white\" stroke=\"none\" points=\"-4,4 -4,-688 391.32,-688 391.32,4 -4,4\"/>\n",
       "<!-- 1 -->\n",
       "<g id=\"node1\" class=\"node\">\n",
       "<title>1</title>\n",
       "<ellipse fill=\"none\" stroke=\"black\" cx=\"84.16\" cy=\"-18\" rx=\"31.74\" ry=\"18\"/>\n",
       "<text text-anchor=\"middle\" x=\"84.16\" y=\"-13.32\" font-family=\"Times,serif\" font-size=\"14.00\">Neg</text>\n",
       "</g>\n",
       "<!-- 2 -->\n",
       "<g id=\"node2\" class=\"node\">\n",
       "<title>2</title>\n",
       "<ellipse fill=\"none\" stroke=\"black\" cx=\"84.16\" cy=\"-90\" rx=\"33.85\" ry=\"18\"/>\n",
       "<text text-anchor=\"middle\" x=\"84.16\" y=\"-85.33\" font-family=\"Times,serif\" font-size=\"14.00\">Sum</text>\n",
       "</g>\n",
       "<!-- 2&#45;&gt;1 -->\n",
       "<g id=\"edge1\" class=\"edge\">\n",
       "<title>2&#45;&gt;1</title>\n",
       "<path fill=\"none\" stroke=\"black\" d=\"M84.16,-71.7C84.16,-64.41 84.16,-55.73 84.16,-47.54\"/>\n",
       "<polygon fill=\"black\" stroke=\"black\" points=\"87.66,-47.62 84.16,-37.62 80.66,-47.62 87.66,-47.62\"/>\n",
       "</g>\n",
       "<!-- 3 -->\n",
       "<g id=\"node3\" class=\"node\">\n",
       "<title>3</title>\n",
       "<ellipse fill=\"none\" stroke=\"black\" cx=\"84.16\" cy=\"-162\" rx=\"30.69\" ry=\"18\"/>\n",
       "<text text-anchor=\"middle\" x=\"84.16\" y=\"-157.32\" font-family=\"Times,serif\" font-size=\"14.00\">Mul</text>\n",
       "</g>\n",
       "<!-- 3&#45;&gt;2 -->\n",
       "<g id=\"edge2\" class=\"edge\">\n",
       "<title>3&#45;&gt;2</title>\n",
       "<path fill=\"none\" stroke=\"black\" d=\"M84.16,-143.7C84.16,-136.41 84.16,-127.73 84.16,-119.54\"/>\n",
       "<polygon fill=\"black\" stroke=\"black\" points=\"87.66,-119.62 84.16,-109.62 80.66,-119.62 87.66,-119.62\"/>\n",
       "</g>\n",
       "<!-- 4 -->\n",
       "<g id=\"node4\" class=\"node\">\n",
       "<title>4</title>\n",
       "<ellipse fill=\"none\" stroke=\"black\" cx=\"40.16\" cy=\"-234\" rx=\"40.16\" ry=\"18\"/>\n",
       "<text text-anchor=\"middle\" x=\"40.16\" y=\"-229.32\" font-family=\"Times,serif\" font-size=\"14.00\">Const</text>\n",
       "</g>\n",
       "<!-- 4&#45;&gt;3 -->\n",
       "<g id=\"edge4\" class=\"edge\">\n",
       "<title>4&#45;&gt;3</title>\n",
       "<path fill=\"none\" stroke=\"black\" d=\"M50.59,-216.41C55.81,-208.1 62.26,-197.85 68.1,-188.56\"/>\n",
       "<polygon fill=\"black\" stroke=\"black\" points=\"70.95,-190.6 73.3,-180.27 65.02,-186.87 70.95,-190.6\"/>\n",
       "</g>\n",
       "<!-- 5 -->\n",
       "<g id=\"node5\" class=\"node\">\n",
       "<title>5</title>\n",
       "<ellipse fill=\"none\" stroke=\"black\" cx=\"128.16\" cy=\"-234\" rx=\"29.64\" ry=\"18\"/>\n",
       "<text text-anchor=\"middle\" x=\"128.16\" y=\"-229.32\" font-family=\"Times,serif\" font-size=\"14.00\">Log</text>\n",
       "</g>\n",
       "<!-- 5&#45;&gt;3 -->\n",
       "<g id=\"edge3\" class=\"edge\">\n",
       "<title>5&#45;&gt;3</title>\n",
       "<path fill=\"none\" stroke=\"black\" d=\"M117.95,-216.76C112.73,-208.46 106.26,-198.15 100.37,-188.79\"/>\n",
       "<polygon fill=\"black\" stroke=\"black\" points=\"103.4,-187.03 95.11,-180.43 97.47,-190.76 103.4,-187.03\"/>\n",
       "</g>\n",
       "<!-- 6 -->\n",
       "<g id=\"node6\" class=\"node\">\n",
       "<title>6</title>\n",
       "<ellipse fill=\"none\" stroke=\"black\" cx=\"128.16\" cy=\"-306\" rx=\"53.31\" ry=\"18\"/>\n",
       "<text text-anchor=\"middle\" x=\"128.16\" y=\"-301.32\" font-family=\"Times,serif\" font-size=\"14.00\">SoftMax</text>\n",
       "</g>\n",
       "<!-- 6&#45;&gt;5 -->\n",
       "<g id=\"edge5\" class=\"edge\">\n",
       "<title>6&#45;&gt;5</title>\n",
       "<path fill=\"none\" stroke=\"black\" d=\"M128.16,-287.7C128.16,-280.41 128.16,-271.73 128.16,-263.54\"/>\n",
       "<polygon fill=\"black\" stroke=\"black\" points=\"131.66,-263.62 128.16,-253.62 124.66,-263.62 131.66,-263.62\"/>\n",
       "</g>\n",
       "<!-- 7 -->\n",
       "<g id=\"node7\" class=\"node\">\n",
       "<title>7</title>\n",
       "<ellipse fill=\"none\" stroke=\"black\" cx=\"128.16\" cy=\"-378\" rx=\"30.69\" ry=\"18\"/>\n",
       "<text text-anchor=\"middle\" x=\"128.16\" y=\"-373.32\" font-family=\"Times,serif\" font-size=\"14.00\">Add</text>\n",
       "</g>\n",
       "<!-- 7&#45;&gt;6 -->\n",
       "<g id=\"edge6\" class=\"edge\">\n",
       "<title>7&#45;&gt;6</title>\n",
       "<path fill=\"none\" stroke=\"black\" d=\"M128.16,-359.7C128.16,-352.41 128.16,-343.73 128.16,-335.54\"/>\n",
       "<polygon fill=\"black\" stroke=\"black\" points=\"131.66,-335.62 128.16,-325.62 124.66,-335.62 131.66,-335.62\"/>\n",
       "</g>\n",
       "<!-- 8 -->\n",
       "<g id=\"node8\" class=\"node\">\n",
       "<title>8</title>\n",
       "<ellipse fill=\"none\" stroke=\"black\" cx=\"73.16\" cy=\"-450\" rx=\"42.26\" ry=\"18\"/>\n",
       "<text text-anchor=\"middle\" x=\"73.16\" y=\"-445.32\" font-family=\"Times,serif\" font-size=\"14.00\">Bias 2</text>\n",
       "</g>\n",
       "<!-- 8&#45;&gt;7 -->\n",
       "<g id=\"edge8\" class=\"edge\">\n",
       "<title>8&#45;&gt;7</title>\n",
       "<path fill=\"none\" stroke=\"black\" d=\"M86.19,-432.41C92.96,-423.8 101.36,-413.11 108.86,-403.56\"/>\n",
       "<polygon fill=\"black\" stroke=\"black\" points=\"111.61,-405.73 115.04,-395.7 106.11,-401.4 111.61,-405.73\"/>\n",
       "</g>\n",
       "<!-- 9 -->\n",
       "<g id=\"node9\" class=\"node\">\n",
       "<title>9</title>\n",
       "<ellipse fill=\"none\" stroke=\"black\" cx=\"183.16\" cy=\"-450\" rx=\"50.16\" ry=\"18\"/>\n",
       "<text text-anchor=\"middle\" x=\"183.16\" y=\"-445.32\" font-family=\"Times,serif\" font-size=\"14.00\">Matmul</text>\n",
       "</g>\n",
       "<!-- 9&#45;&gt;7 -->\n",
       "<g id=\"edge7\" class=\"edge\">\n",
       "<title>9&#45;&gt;7</title>\n",
       "<path fill=\"none\" stroke=\"black\" d=\"M170.13,-432.41C163.36,-423.8 154.96,-413.11 147.46,-403.56\"/>\n",
       "<polygon fill=\"black\" stroke=\"black\" points=\"150.21,-401.4 141.28,-395.7 144.71,-405.73 150.21,-401.4\"/>\n",
       "</g>\n",
       "<!-- 10 -->\n",
       "<g id=\"node10\" class=\"node\">\n",
       "<title>10</title>\n",
       "<ellipse fill=\"none\" stroke=\"black\" cx=\"131.16\" cy=\"-522\" rx=\"55.42\" ry=\"18\"/>\n",
       "<text text-anchor=\"middle\" x=\"131.16\" y=\"-517.33\" font-family=\"Times,serif\" font-size=\"14.00\">Weight 2</text>\n",
       "</g>\n",
       "<!-- 10&#45;&gt;9 -->\n",
       "<g id=\"edge10\" class=\"edge\">\n",
       "<title>10&#45;&gt;9</title>\n",
       "<path fill=\"none\" stroke=\"black\" d=\"M143.75,-504.05C149.82,-495.89 157.23,-485.91 163.98,-476.82\"/>\n",
       "<polygon fill=\"black\" stroke=\"black\" points=\"166.63,-479.12 169.79,-469 161.01,-474.94 166.63,-479.12\"/>\n",
       "</g>\n",
       "<!-- 11 -->\n",
       "<g id=\"node11\" class=\"node\">\n",
       "<title>11</title>\n",
       "<ellipse fill=\"none\" stroke=\"black\" cx=\"235.16\" cy=\"-522\" rx=\"30.69\" ry=\"18\"/>\n",
       "<text text-anchor=\"middle\" x=\"235.16\" y=\"-517.33\" font-family=\"Times,serif\" font-size=\"14.00\">Add</text>\n",
       "</g>\n",
       "<!-- 11&#45;&gt;9 -->\n",
       "<g id=\"edge9\" class=\"edge\">\n",
       "<title>11&#45;&gt;9</title>\n",
       "<path fill=\"none\" stroke=\"black\" d=\"M223.36,-505.12C217.16,-496.77 209.4,-486.32 202.36,-476.84\"/>\n",
       "<polygon fill=\"black\" stroke=\"black\" points=\"205.31,-474.95 196.54,-469.01 199.69,-479.13 205.31,-474.95\"/>\n",
       "</g>\n",
       "<!-- 12 -->\n",
       "<g id=\"node12\" class=\"node\">\n",
       "<title>12</title>\n",
       "<ellipse fill=\"none\" stroke=\"black\" cx=\"180.16\" cy=\"-594\" rx=\"42.26\" ry=\"18\"/>\n",
       "<text text-anchor=\"middle\" x=\"180.16\" y=\"-589.33\" font-family=\"Times,serif\" font-size=\"14.00\">Bias 1</text>\n",
       "</g>\n",
       "<!-- 12&#45;&gt;11 -->\n",
       "<g id=\"edge12\" class=\"edge\">\n",
       "<title>12&#45;&gt;11</title>\n",
       "<path fill=\"none\" stroke=\"black\" d=\"M193.19,-576.41C199.96,-567.8 208.36,-557.11 215.86,-547.56\"/>\n",
       "<polygon fill=\"black\" stroke=\"black\" points=\"218.61,-549.73 222.04,-539.7 213.11,-545.4 218.61,-549.73\"/>\n",
       "</g>\n",
       "<!-- 13 -->\n",
       "<g id=\"node13\" class=\"node\">\n",
       "<title>13</title>\n",
       "<ellipse fill=\"none\" stroke=\"black\" cx=\"290.16\" cy=\"-594\" rx=\"50.16\" ry=\"18\"/>\n",
       "<text text-anchor=\"middle\" x=\"290.16\" y=\"-589.33\" font-family=\"Times,serif\" font-size=\"14.00\">Matmul</text>\n",
       "</g>\n",
       "<!-- 13&#45;&gt;11 -->\n",
       "<g id=\"edge11\" class=\"edge\">\n",
       "<title>13&#45;&gt;11</title>\n",
       "<path fill=\"none\" stroke=\"black\" d=\"M277.13,-576.41C270.36,-567.8 261.96,-557.11 254.46,-547.56\"/>\n",
       "<polygon fill=\"black\" stroke=\"black\" points=\"257.21,-545.4 248.28,-539.7 251.71,-549.73 257.21,-545.4\"/>\n",
       "</g>\n",
       "<!-- 14 -->\n",
       "<g id=\"node14\" class=\"node\">\n",
       "<title>14</title>\n",
       "<ellipse fill=\"none\" stroke=\"black\" cx=\"233.16\" cy=\"-666\" rx=\"55.42\" ry=\"18\"/>\n",
       "<text text-anchor=\"middle\" x=\"233.16\" y=\"-661.33\" font-family=\"Times,serif\" font-size=\"14.00\">Weight 1</text>\n",
       "</g>\n",
       "<!-- 14&#45;&gt;13 -->\n",
       "<g id=\"edge14\" class=\"edge\">\n",
       "<title>14&#45;&gt;13</title>\n",
       "<path fill=\"none\" stroke=\"black\" d=\"M246.67,-648.41C253.48,-640.04 261.9,-629.71 269.5,-620.37\"/>\n",
       "<polygon fill=\"black\" stroke=\"black\" points=\"272.19,-622.61 275.79,-612.64 266.76,-618.19 272.19,-622.61\"/>\n",
       "</g>\n",
       "<!-- 15 -->\n",
       "<g id=\"node15\" class=\"node\">\n",
       "<title>15</title>\n",
       "<ellipse fill=\"none\" stroke=\"black\" cx=\"347.16\" cy=\"-666\" rx=\"40.16\" ry=\"18\"/>\n",
       "<text text-anchor=\"middle\" x=\"347.16\" y=\"-661.33\" font-family=\"Times,serif\" font-size=\"14.00\">Const</text>\n",
       "</g>\n",
       "<!-- 15&#45;&gt;13 -->\n",
       "<g id=\"edge13\" class=\"edge\">\n",
       "<title>15&#45;&gt;13</title>\n",
       "<path fill=\"none\" stroke=\"black\" d=\"M333.94,-648.76C327.06,-640.32 318.5,-629.8 310.77,-620.31\"/>\n",
       "<polygon fill=\"black\" stroke=\"black\" points=\"313.69,-618.35 304.66,-612.81 308.26,-622.77 313.69,-618.35\"/>\n",
       "</g>\n",
       "</g>\n",
       "</svg>\n"
      ],
      "text/plain": [
       "<graphviz.graphs.Digraph at 0x7f9291a4acd0>"
      ]
     },
     "execution_count": 125,
     "metadata": {},
     "output_type": "execute_result"
    }
   ],
   "source": [
    "loss.graphviz()"
   ]
  }
 ],
 "metadata": {
  "kernelspec": {
   "display_name": "Python 3",
   "language": "python",
   "name": "python3"
  },
  "language_info": {
   "codemirror_mode": {
    "name": "ipython",
    "version": 3
   },
   "file_extension": ".py",
   "mimetype": "text/x-python",
   "name": "python",
   "nbconvert_exporter": "python",
   "pygments_lexer": "ipython3",
   "version": "3.11.4"
  },
  "orig_nbformat": 4
 },
 "nbformat": 4,
 "nbformat_minor": 2
}
