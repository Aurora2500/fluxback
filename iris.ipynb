{
 "cells": [
  {
   "cell_type": "code",
   "execution_count": 2,
   "metadata": {},
   "outputs": [],
   "source": [
    "import fluxback as fb\n",
    "import numpy as np\n",
    "import pandas as pd\n",
    "from sklearn.model_selection import train_test_split\n",
    "from sklearn.preprocessing import OneHotEncoder"
   ]
  },
  {
   "cell_type": "code",
   "execution_count": 3,
   "metadata": {},
   "outputs": [
    {
     "data": {
      "text/html": [
       "<div>\n",
       "<style scoped>\n",
       "    .dataframe tbody tr th:only-of-type {\n",
       "        vertical-align: middle;\n",
       "    }\n",
       "\n",
       "    .dataframe tbody tr th {\n",
       "        vertical-align: top;\n",
       "    }\n",
       "\n",
       "    .dataframe thead th {\n",
       "        text-align: right;\n",
       "    }\n",
       "</style>\n",
       "<table border=\"1\" class=\"dataframe\">\n",
       "  <thead>\n",
       "    <tr style=\"text-align: right;\">\n",
       "      <th></th>\n",
       "      <th>sepal.length</th>\n",
       "      <th>sepal.width</th>\n",
       "      <th>petal.length</th>\n",
       "      <th>petal.width</th>\n",
       "      <th>variety</th>\n",
       "    </tr>\n",
       "  </thead>\n",
       "  <tbody>\n",
       "    <tr>\n",
       "      <th>0</th>\n",
       "      <td>5.1</td>\n",
       "      <td>3.5</td>\n",
       "      <td>1.4</td>\n",
       "      <td>0.2</td>\n",
       "      <td>Setosa</td>\n",
       "    </tr>\n",
       "    <tr>\n",
       "      <th>1</th>\n",
       "      <td>4.9</td>\n",
       "      <td>3.0</td>\n",
       "      <td>1.4</td>\n",
       "      <td>0.2</td>\n",
       "      <td>Setosa</td>\n",
       "    </tr>\n",
       "    <tr>\n",
       "      <th>2</th>\n",
       "      <td>4.7</td>\n",
       "      <td>3.2</td>\n",
       "      <td>1.3</td>\n",
       "      <td>0.2</td>\n",
       "      <td>Setosa</td>\n",
       "    </tr>\n",
       "    <tr>\n",
       "      <th>3</th>\n",
       "      <td>4.6</td>\n",
       "      <td>3.1</td>\n",
       "      <td>1.5</td>\n",
       "      <td>0.2</td>\n",
       "      <td>Setosa</td>\n",
       "    </tr>\n",
       "    <tr>\n",
       "      <th>4</th>\n",
       "      <td>5.0</td>\n",
       "      <td>3.6</td>\n",
       "      <td>1.4</td>\n",
       "      <td>0.2</td>\n",
       "      <td>Setosa</td>\n",
       "    </tr>\n",
       "  </tbody>\n",
       "</table>\n",
       "</div>"
      ],
      "text/plain": [
       "   sepal.length  sepal.width  petal.length  petal.width variety\n",
       "0           5.1          3.5           1.4          0.2  Setosa\n",
       "1           4.9          3.0           1.4          0.2  Setosa\n",
       "2           4.7          3.2           1.3          0.2  Setosa\n",
       "3           4.6          3.1           1.5          0.2  Setosa\n",
       "4           5.0          3.6           1.4          0.2  Setosa"
      ]
     },
     "execution_count": 3,
     "metadata": {},
     "output_type": "execute_result"
    }
   ],
   "source": [
    "data = pd.read_csv(\"iris.csv\")\n",
    "data.head()"
   ]
  },
  {
   "cell_type": "code",
   "execution_count": 4,
   "metadata": {},
   "outputs": [
    {
     "data": {
      "text/plain": [
       "((150, 4), (150,))"
      ]
     },
     "execution_count": 4,
     "metadata": {},
     "output_type": "execute_result"
    }
   ],
   "source": [
    "X = data.iloc[:, :4].to_numpy()\n",
    "y = data.iloc[:, 4].to_numpy()\n",
    "\n",
    "X.shape, y.shape"
   ]
  },
  {
   "cell_type": "code",
   "execution_count": 6,
   "metadata": {},
   "outputs": [
    {
     "data": {
      "text/plain": [
       "[array(['Setosa', 'Versicolor', 'Virginica'], dtype=object)]"
      ]
     },
     "execution_count": 6,
     "metadata": {},
     "output_type": "execute_result"
    }
   ],
   "source": [
    "ohe = OneHotEncoder(sparse_output=False)\n",
    "ohe.fit(y[:, None])\n",
    "\n",
    "ohe.categories_"
   ]
  },
  {
   "cell_type": "code",
   "execution_count": 7,
   "metadata": {},
   "outputs": [
    {
     "data": {
      "text/plain": [
       "array([[1., 0., 0.],\n",
       "       [0., 1., 0.],\n",
       "       [0., 0., 1.]])"
      ]
     },
     "execution_count": 7,
     "metadata": {},
     "output_type": "execute_result"
    }
   ],
   "source": [
    "ohe.transform([['Setosa'], ['Versicolor'], ['Virginica']])"
   ]
  },
  {
   "cell_type": "code",
   "execution_count": 8,
   "metadata": {},
   "outputs": [],
   "source": [
    "y_enc = ohe.transform(y[:, None])"
   ]
  },
  {
   "cell_type": "code",
   "execution_count": 9,
   "metadata": {},
   "outputs": [
    {
     "data": {
      "text/plain": [
       "((120, 4), (30, 4), (120,), (30,))"
      ]
     },
     "execution_count": 9,
     "metadata": {},
     "output_type": "execute_result"
    }
   ],
   "source": [
    "X_train, X_test, y_train, y_test = train_test_split(X, y, test_size=0.2, random_state=42)\n",
    "X_train.shape, X_test.shape, y_train.shape, y_test.shape"
   ]
  },
  {
   "cell_type": "code",
   "execution_count": 10,
   "metadata": {},
   "outputs": [],
   "source": [
    "fc1_weights = fb.Tensor.randn((4, 32), requires_grad=True)\n",
    "fc1_weights.autodiff_role = \"Weight 1\"\n",
    "fc1_bias = fb.Tensor.randn((32,), requires_grad=True)\n",
    "fc1_bias.autodiff_role = \"Bias 1\"\n",
    "fc2_weights = fb.Tensor.randn((32,3), requires_grad=True)\n",
    "fc2_weights.autodiff_role = \"Weight 2\"\n",
    "fc2_bias = fb.Tensor.randn((3,), requires_grad=True)\n",
    "fc2_bias.autodiff_role = \"Bias 2\""
   ]
  },
  {
   "cell_type": "code",
   "execution_count": 11,
   "metadata": {},
   "outputs": [
    {
     "name": "stderr",
     "output_type": "stream",
     "text": [
      "/home/aurora/school/uni/year_3/optimization/fluxback/fluxback/activation.py:39: RuntimeWarning: overflow encountered in exp\n",
      "  exp = np.exp(x)\n",
      "/home/aurora/school/uni/year_3/optimization/fluxback/fluxback/activation.py:40: RuntimeWarning: invalid value encountered in divide\n",
      "  return exp / exp.sum(axis=-1, keepdims=True)\n",
      "/home/aurora/school/uni/year_3/optimization/fluxback/fluxback/tensor.py:185: RuntimeWarning: divide by zero encountered in log\n",
      "  result = ComputationalTensor(np.log(self.values))\n",
      "/home/aurora/school/uni/year_3/optimization/fluxback/fluxback/tensor.py:87: RuntimeWarning: invalid value encountered in multiply\n",
      "  result = ComputationalTensor(self.values * other.values)\n",
      "/home/aurora/school/uni/year_3/optimization/fluxback/fluxback/tensor.py:189: RuntimeWarning: divide by zero encountered in divide\n",
      "  result.grad_fn = lambda n: (n.grad / n.dependencies[0].values,)\n",
      "/home/aurora/school/uni/year_3/optimization/fluxback/fluxback/tensor.py:189: RuntimeWarning: invalid value encountered in divide\n",
      "  result.grad_fn = lambda n: (n.grad / n.dependencies[0].values,)\n",
      "/home/aurora/school/uni/year_3/optimization/fluxback/fluxback/activation.py:50: RuntimeWarning: invalid value encountered in matmul\n",
      "  return ((jacobian @ n.grad[..., None])[...,0],)\n"
     ]
    }
   ],
   "source": [
    "from collections import defaultdict\n",
    "from sklearn.utils import gen_batches\n",
    "history = defaultdict(list)\n",
    "epochs = 5\n",
    "lr = 1\n",
    "relu = fb.activation.LeakyReLU()\n",
    "softmax = fb.activation.SoftMax()\n",
    "\n",
    "y_train_ohe = ohe.transform(y_train[:,None])\n",
    "\n",
    "for i in range(epochs):\n",
    "\tfor j, batch in enumerate(gen_batches(X_train.shape[0], 5)):\n",
    "\t\tX_batch = X_train[batch]\n",
    "\t\ty_batch = y_train_ohe[batch]\n",
    "\t\tx1 = fb.Tensor(X_train) @ fc1_weights + fc1_bias\n",
    "\t\ty1 = relu(x1)\n",
    "\t\tx2 = x1 @ fc2_weights + fc2_bias\n",
    "\t\ty2 = softmax(x2)\n",
    "\n",
    "\t\tloss = - (y2.log() * y_train_ohe).sum()\n",
    "\t\t\n",
    "\n",
    "\t\thistory['epoch'].append(i*20 + j)\n",
    "\t\thistory['loss'].append(loss.values)\n",
    "\t\tact_label = np.argmax(y2.values, axis=1)\n",
    "\t\tpred_label = np.argmax(y_train_ohe, axis=1)\n",
    "\t\thistory['accuracy'].append((act_label == pred_label).mean())\n",
    "\n",
    "\t\tloss.zero()\n",
    "\t\tloss.back()\n",
    "\t\tfc1_weights -= (lr * fc1_weights.grad)\n",
    "\t\tfc1_bias -= (lr * fc1_bias.grad)\n",
    "\t\tfc2_weights -= (lr * fc2_weights.grad)\n",
    "\t\tfc2_bias -= (lr * fc2_bias.grad)"
   ]
  },
  {
   "cell_type": "code",
   "execution_count": 12,
   "metadata": {},
   "outputs": [
    {
     "data": {
      "text/plain": [
       "[<matplotlib.lines.Line2D at 0x7f6f3034d690>]"
      ]
     },
     "execution_count": 12,
     "metadata": {},
     "output_type": "execute_result"
    },
    {
     "data": {
      "image/png": "[encoded data removed]",
      "text/plain": [
       "<Figure size 640x480 with 1 Axes>"
      ]
     },
     "metadata": {},
     "output_type": "display_data"
    }
   ],
   "source": [
    "import matplotlib.pyplot as plt\n",
    "\n",
    "plt.plot(history['epoch'], history['loss'])"
   ]
  },
  {
   "cell_type": "code",
   "execution_count": 13,
   "metadata": {},
   "outputs": [
    {
     "data": {
      "image/svg+xml": [
       "<?xml version=\"1.0\" encoding=\"UTF-8\" standalone=\"no\"?>\n",
       "<!DOCTYPE svg PUBLIC \"-//W3C//DTD SVG 1.1//EN\"\n",
       " \"http://www.w3.org/Graphics/SVG/1.1/DTD/svg11.dtd\">\n",
       "<!-- Generated by graphviz version 2.50.0 (0)\n",
       " -->\n",
       "<!-- Pages: 1 -->\n",
       "<svg width=\"375pt\" height=\"692pt\"\n",
       " viewBox=\"0.00 0.00 375.39 692.00\" xmlns=\"http://www.w3.org/2000/svg\" xmlns:xlink=\"http://www.w3.org/1999/xlink\">\n",
       "<g id=\"graph0\" class=\"graph\" transform=\"scale(1 1) rotate(0) translate(4 688)\">\n",
       "<polygon fill=\"white\" stroke=\"transparent\" points=\"-4,4 -4,-688 371.39,-688 371.39,4 -4,4\"/>\n",
       "<!-- 1 -->\n",
       "<g id=\"node1\" class=\"node\">\n",
       "<title>1</title>\n",
       "<ellipse fill=\"none\" stroke=\"black\" cx=\"79.7\" cy=\"-18\" rx=\"29.8\" ry=\"18\"/>\n",
       "<text text-anchor=\"middle\" x=\"79.7\" y=\"-14.3\" font-family=\"Times,serif\" font-size=\"14.00\">Neg</text>\n",
       "</g>\n",
       "<!-- 2 -->\n",
       "<g id=\"node2\" class=\"node\">\n",
       "<title>2</title>\n",
       "<ellipse fill=\"none\" stroke=\"black\" cx=\"79.7\" cy=\"-90\" rx=\"31.7\" ry=\"18\"/>\n",
       "<text text-anchor=\"middle\" x=\"79.7\" y=\"-86.3\" font-family=\"Times,serif\" font-size=\"14.00\">Sum</text>\n",
       "</g>\n",
       "<!-- 2&#45;&gt;1 -->\n",
       "<g id=\"edge1\" class=\"edge\">\n",
       "<title>2&#45;&gt;1</title>\n",
       "<path fill=\"none\" stroke=\"black\" d=\"M79.7,-71.7C79.7,-63.98 79.7,-54.71 79.7,-46.11\"/>\n",
       "<polygon fill=\"black\" stroke=\"black\" points=\"83.2,-46.1 79.7,-36.1 76.2,-46.1 83.2,-46.1\"/>\n",
       "</g>\n",
       "<!-- 3 -->\n",
       "<g id=\"node3\" class=\"node\">\n",
       "<title>3</title>\n",
       "<ellipse fill=\"none\" stroke=\"black\" cx=\"79.7\" cy=\"-162\" rx=\"28.7\" ry=\"18\"/>\n",
       "<text text-anchor=\"middle\" x=\"79.7\" y=\"-158.3\" font-family=\"Times,serif\" font-size=\"14.00\">Mul</text>\n",
       "</g>\n",
       "<!-- 3&#45;&gt;2 -->\n",
       "<g id=\"edge2\" class=\"edge\">\n",
       "<title>3&#45;&gt;2</title>\n",
       "<path fill=\"none\" stroke=\"black\" d=\"M79.7,-143.7C79.7,-135.98 79.7,-126.71 79.7,-118.11\"/>\n",
       "<polygon fill=\"black\" stroke=\"black\" points=\"83.2,-118.1 79.7,-108.1 76.2,-118.1 83.2,-118.1\"/>\n",
       "</g>\n",
       "<!-- 4 -->\n",
       "<g id=\"node4\" class=\"node\">\n",
       "<title>4</title>\n",
       "<ellipse fill=\"none\" stroke=\"black\" cx=\"37.7\" cy=\"-234\" rx=\"37.89\" ry=\"18\"/>\n",
       "<text text-anchor=\"middle\" x=\"37.7\" y=\"-230.3\" font-family=\"Times,serif\" font-size=\"14.00\">Const</text>\n",
       "</g>\n",
       "<!-- 4&#45;&gt;3 -->\n",
       "<g id=\"edge4\" class=\"edge\">\n",
       "<title>4&#45;&gt;3</title>\n",
       "<path fill=\"none\" stroke=\"black\" d=\"M47.65,-216.41C52.8,-207.83 59.18,-197.19 64.89,-187.67\"/>\n",
       "<polygon fill=\"black\" stroke=\"black\" points=\"67.96,-189.36 70.1,-178.99 61.96,-185.76 67.96,-189.36\"/>\n",
       "</g>\n",
       "<!-- 5 -->\n",
       "<g id=\"node5\" class=\"node\">\n",
       "<title>5</title>\n",
       "<ellipse fill=\"none\" stroke=\"black\" cx=\"121.7\" cy=\"-234\" rx=\"27.9\" ry=\"18\"/>\n",
       "<text text-anchor=\"middle\" x=\"121.7\" y=\"-230.3\" font-family=\"Times,serif\" font-size=\"14.00\">Log</text>\n",
       "</g>\n",
       "<!-- 5&#45;&gt;3 -->\n",
       "<g id=\"edge3\" class=\"edge\">\n",
       "<title>5&#45;&gt;3</title>\n",
       "<path fill=\"none\" stroke=\"black\" d=\"M111.96,-216.76C106.81,-208.19 100.39,-197.49 94.64,-187.9\"/>\n",
       "<polygon fill=\"black\" stroke=\"black\" points=\"97.53,-185.92 89.39,-179.15 91.53,-189.52 97.53,-185.92\"/>\n",
       "</g>\n",
       "<!-- 6 -->\n",
       "<g id=\"node6\" class=\"node\">\n",
       "<title>6</title>\n",
       "<ellipse fill=\"none\" stroke=\"black\" cx=\"121.7\" cy=\"-306\" rx=\"50.09\" ry=\"18\"/>\n",
       "<text text-anchor=\"middle\" x=\"121.7\" y=\"-302.3\" font-family=\"Times,serif\" font-size=\"14.00\">SoftMax</text>\n",
       "</g>\n",
       "<!-- 6&#45;&gt;5 -->\n",
       "<g id=\"edge5\" class=\"edge\">\n",
       "<title>6&#45;&gt;5</title>\n",
       "<path fill=\"none\" stroke=\"black\" d=\"M121.7,-287.7C121.7,-279.98 121.7,-270.71 121.7,-262.11\"/>\n",
       "<polygon fill=\"black\" stroke=\"black\" points=\"125.2,-262.1 121.7,-252.1 118.2,-262.1 125.2,-262.1\"/>\n",
       "</g>\n",
       "<!-- 7 -->\n",
       "<g id=\"node7\" class=\"node\">\n",
       "<title>7</title>\n",
       "<ellipse fill=\"none\" stroke=\"black\" cx=\"121.7\" cy=\"-378\" rx=\"28.7\" ry=\"18\"/>\n",
       "<text text-anchor=\"middle\" x=\"121.7\" y=\"-374.3\" font-family=\"Times,serif\" font-size=\"14.00\">Add</text>\n",
       "</g>\n",
       "<!-- 7&#45;&gt;6 -->\n",
       "<g id=\"edge6\" class=\"edge\">\n",
       "<title>7&#45;&gt;6</title>\n",
       "<path fill=\"none\" stroke=\"black\" d=\"M121.7,-359.7C121.7,-351.98 121.7,-342.71 121.7,-334.11\"/>\n",
       "<polygon fill=\"black\" stroke=\"black\" points=\"125.2,-334.1 121.7,-324.1 118.2,-334.1 125.2,-334.1\"/>\n",
       "</g>\n",
       "<!-- 8 -->\n",
       "<g id=\"node8\" class=\"node\">\n",
       "<title>8</title>\n",
       "<ellipse fill=\"none\" stroke=\"black\" cx=\"69.7\" cy=\"-450\" rx=\"39.79\" ry=\"18\"/>\n",
       "<text text-anchor=\"middle\" x=\"69.7\" y=\"-446.3\" font-family=\"Times,serif\" font-size=\"14.00\">Bias 2</text>\n",
       "</g>\n",
       "<!-- 8&#45;&gt;7 -->\n",
       "<g id=\"edge8\" class=\"edge\">\n",
       "<title>8&#45;&gt;7</title>\n",
       "<path fill=\"none\" stroke=\"black\" d=\"M81.76,-432.76C88.35,-423.89 96.63,-412.74 103.95,-402.89\"/>\n",
       "<polygon fill=\"black\" stroke=\"black\" points=\"106.91,-404.78 110.06,-394.67 101.29,-400.61 106.91,-404.78\"/>\n",
       "</g>\n",
       "<!-- 9 -->\n",
       "<g id=\"node9\" class=\"node\">\n",
       "<title>9</title>\n",
       "<ellipse fill=\"none\" stroke=\"black\" cx=\"173.7\" cy=\"-450\" rx=\"46.59\" ry=\"18\"/>\n",
       "<text text-anchor=\"middle\" x=\"173.7\" y=\"-446.3\" font-family=\"Times,serif\" font-size=\"14.00\">Matmul</text>\n",
       "</g>\n",
       "<!-- 9&#45;&gt;7 -->\n",
       "<g id=\"edge7\" class=\"edge\">\n",
       "<title>9&#45;&gt;7</title>\n",
       "<path fill=\"none\" stroke=\"black\" d=\"M161.37,-432.41C154.78,-423.53 146.54,-412.44 139.28,-402.67\"/>\n",
       "<polygon fill=\"black\" stroke=\"black\" points=\"141.99,-400.45 133.22,-394.51 136.37,-404.63 141.99,-400.45\"/>\n",
       "</g>\n",
       "<!-- 10 -->\n",
       "<g id=\"node10\" class=\"node\">\n",
       "<title>10</title>\n",
       "<ellipse fill=\"none\" stroke=\"black\" cx=\"124.7\" cy=\"-522\" rx=\"51.99\" ry=\"18\"/>\n",
       "<text text-anchor=\"middle\" x=\"124.7\" y=\"-518.3\" font-family=\"Times,serif\" font-size=\"14.00\">Weight 2</text>\n",
       "</g>\n",
       "<!-- 10&#45;&gt;9 -->\n",
       "<g id=\"edge10\" class=\"edge\">\n",
       "<title>10&#45;&gt;9</title>\n",
       "<path fill=\"none\" stroke=\"black\" d=\"M136.31,-504.41C142.29,-495.87 149.7,-485.28 156.35,-475.79\"/>\n",
       "<polygon fill=\"black\" stroke=\"black\" points=\"159.3,-477.67 162.17,-467.47 153.57,-473.66 159.3,-477.67\"/>\n",
       "</g>\n",
       "<!-- 11 -->\n",
       "<g id=\"node11\" class=\"node\">\n",
       "<title>11</title>\n",
       "<ellipse fill=\"none\" stroke=\"black\" cx=\"223.7\" cy=\"-522\" rx=\"28.7\" ry=\"18\"/>\n",
       "<text text-anchor=\"middle\" x=\"223.7\" y=\"-518.3\" font-family=\"Times,serif\" font-size=\"14.00\">Add</text>\n",
       "</g>\n",
       "<!-- 11&#45;&gt;9 -->\n",
       "<g id=\"edge9\" class=\"edge\">\n",
       "<title>11&#45;&gt;9</title>\n",
       "<path fill=\"none\" stroke=\"black\" d=\"M212.35,-505.12C206.2,-496.51 198.46,-485.67 191.52,-475.96\"/>\n",
       "<polygon fill=\"black\" stroke=\"black\" points=\"194.36,-473.9 185.69,-467.8 188.66,-477.97 194.36,-473.9\"/>\n",
       "</g>\n",
       "<!-- 12 -->\n",
       "<g id=\"node12\" class=\"node\">\n",
       "<title>12</title>\n",
       "<ellipse fill=\"none\" stroke=\"black\" cx=\"171.7\" cy=\"-594\" rx=\"39.79\" ry=\"18\"/>\n",
       "<text text-anchor=\"middle\" x=\"171.7\" y=\"-590.3\" font-family=\"Times,serif\" font-size=\"14.00\">Bias 1</text>\n",
       "</g>\n",
       "<!-- 12&#45;&gt;11 -->\n",
       "<g id=\"edge12\" class=\"edge\">\n",
       "<title>12&#45;&gt;11</title>\n",
       "<path fill=\"none\" stroke=\"black\" d=\"M183.76,-576.76C190.35,-567.89 198.63,-556.74 205.95,-546.89\"/>\n",
       "<polygon fill=\"black\" stroke=\"black\" points=\"208.91,-548.78 212.06,-538.67 203.29,-544.61 208.91,-548.78\"/>\n",
       "</g>\n",
       "<!-- 13 -->\n",
       "<g id=\"node13\" class=\"node\">\n",
       "<title>13</title>\n",
       "<ellipse fill=\"none\" stroke=\"black\" cx=\"275.7\" cy=\"-594\" rx=\"46.59\" ry=\"18\"/>\n",
       "<text text-anchor=\"middle\" x=\"275.7\" y=\"-590.3\" font-family=\"Times,serif\" font-size=\"14.00\">Matmul</text>\n",
       "</g>\n",
       "<!-- 13&#45;&gt;11 -->\n",
       "<g id=\"edge11\" class=\"edge\">\n",
       "<title>13&#45;&gt;11</title>\n",
       "<path fill=\"none\" stroke=\"black\" d=\"M263.37,-576.41C256.78,-567.53 248.54,-556.44 241.28,-546.67\"/>\n",
       "<polygon fill=\"black\" stroke=\"black\" points=\"243.99,-544.45 235.22,-538.51 238.37,-548.63 243.99,-544.45\"/>\n",
       "</g>\n",
       "<!-- 14 -->\n",
       "<g id=\"node14\" class=\"node\">\n",
       "<title>14</title>\n",
       "<ellipse fill=\"none\" stroke=\"black\" cx=\"221.7\" cy=\"-666\" rx=\"51.99\" ry=\"18\"/>\n",
       "<text text-anchor=\"middle\" x=\"221.7\" y=\"-662.3\" font-family=\"Times,serif\" font-size=\"14.00\">Weight 1</text>\n",
       "</g>\n",
       "<!-- 14&#45;&gt;13 -->\n",
       "<g id=\"edge14\" class=\"edge\">\n",
       "<title>14&#45;&gt;13</title>\n",
       "<path fill=\"none\" stroke=\"black\" d=\"M234.49,-648.41C241.15,-639.78 249.42,-629.06 256.8,-619.5\"/>\n",
       "<polygon fill=\"black\" stroke=\"black\" points=\"259.65,-621.53 262.99,-611.47 254.11,-617.25 259.65,-621.53\"/>\n",
       "</g>\n",
       "<!-- 15 -->\n",
       "<g id=\"node15\" class=\"node\">\n",
       "<title>15</title>\n",
       "<ellipse fill=\"none\" stroke=\"black\" cx=\"329.7\" cy=\"-666\" rx=\"37.89\" ry=\"18\"/>\n",
       "<text text-anchor=\"middle\" x=\"329.7\" y=\"-662.3\" font-family=\"Times,serif\" font-size=\"14.00\">Const</text>\n",
       "</g>\n",
       "<!-- 15&#45;&gt;13 -->\n",
       "<g id=\"edge13\" class=\"edge\">\n",
       "<title>15&#45;&gt;13</title>\n",
       "<path fill=\"none\" stroke=\"black\" d=\"M317.17,-648.76C310.52,-640.14 302.21,-629.36 294.77,-619.73\"/>\n",
       "<polygon fill=\"black\" stroke=\"black\" points=\"297.41,-617.41 288.53,-611.63 291.86,-621.69 297.41,-617.41\"/>\n",
       "</g>\n",
       "</g>\n",
       "</svg>\n"
      ],
      "text/plain": [
       "<graphviz.graphs.Digraph at 0x7f6f122802d0>"
      ]
     },
     "execution_count": 13,
     "metadata": {},
     "output_type": "execute_result"
    }
   ],
   "source": [
    "loss.graphviz()"
   ]
  }
 ],
 "metadata": {
  "kernelspec": {
   "display_name": "Python 3",
   "language": "python",
   "name": "python3"
  },
  "language_info": {
   "codemirror_mode": {
    "name": "ipython",
    "version": 3
   },
   "file_extension": ".py",
   "mimetype": "text/x-python",
   "name": "python",
   "nbconvert_exporter": "python",
   "pygments_lexer": "ipython3",
   "version": "3.11.7"
  },
  "orig_nbformat": 4
 },
 "nbformat": 4,
 "nbformat_minor": 2
}
