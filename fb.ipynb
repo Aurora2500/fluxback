{
 "cells": [
  {
   "cell_type": "code",
   "execution_count": 1,
   "metadata": {},
   "outputs": [],
   "source": [
    "import fluxback as fb\n",
    "import fluxback.activation as act"
   ]
  },
  {
   "cell_type": "code",
   "execution_count": 2,
   "metadata": {},
   "outputs": [
    {
     "data": {
      "text/plain": [
       "tensor(16.0)"
      ]
     },
     "execution_count": 2,
     "metadata": {},
     "output_type": "execute_result"
    }
   ],
   "source": [
    "x = fb.tensor(2., requires_grad=True)\n",
    "y = fb.tensor(3., requires_grad=True)\n",
    "\n",
    "z = (x*x) + 2.*(x*y)\n",
    "\n",
    "z"
   ]
  },
  {
   "cell_type": "code",
   "execution_count": 3,
   "metadata": {},
   "outputs": [],
   "source": [
    "z.zero()\n",
    "z.back()"
   ]
  },
  {
   "cell_type": "code",
   "execution_count": 4,
   "metadata": {},
   "outputs": [
    {
     "data": {
      "text/plain": [
       "array(10.)"
      ]
     },
     "execution_count": 4,
     "metadata": {},
     "output_type": "execute_result"
    }
   ],
   "source": [
    "x.grad"
   ]
  },
  {
   "cell_type": "code",
   "execution_count": 5,
   "metadata": {},
   "outputs": [
    {
     "data": {
      "text/plain": [
       "array(4.)"
      ]
     },
     "execution_count": 5,
     "metadata": {},
     "output_type": "execute_result"
    }
   ],
   "source": [
    "y.grad"
   ]
  },
  {
   "cell_type": "code",
   "execution_count": 6,
   "metadata": {},
   "outputs": [
    {
     "name": "stdout",
     "output_type": "stream",
     "text": [
      "-1.0\n"
     ]
    }
   ],
   "source": [
    "y = fb.tensor.randn((), requires_grad=True)\n",
    "\n",
    "z = 1. - y\n",
    "\n",
    "z.zero()\n",
    "z.back()\n",
    "\n",
    "print(y.grad)"
   ]
  },
  {
   "cell_type": "markdown",
   "metadata": {},
   "source": [
    "### Unary operators"
   ]
  },
  {
   "cell_type": "code",
   "execution_count": 7,
   "metadata": {},
   "outputs": [
    {
     "data": {
      "text/plain": [
       "array(-1.)"
      ]
     },
     "execution_count": 7,
     "metadata": {},
     "output_type": "execute_result"
    }
   ],
   "source": [
    "# negation\n",
    "a = fb.tensor(2., requires_grad=True)\n",
    "b = -a\n",
    "\n",
    "b.zero()\n",
    "b.back()\n",
    "\n",
    "a.grad"
   ]
  },
  {
   "cell_type": "code",
   "execution_count": 8,
   "metadata": {},
   "outputs": [
    {
     "data": {
      "text/plain": [
       "array([ 1., -1.])"
      ]
     },
     "execution_count": 8,
     "metadata": {},
     "output_type": "execute_result"
    }
   ],
   "source": [
    "# absolute value\n",
    "a = fb.tensor([3., -2.], requires_grad=True)\n",
    "\n",
    "b = abs(a)\n",
    "\n",
    "b.zero()\n",
    "b.back()\n",
    "\n",
    "a.grad"
   ]
  },
  {
   "cell_type": "markdown",
   "metadata": {},
   "source": [
    "## Sigmoid"
   ]
  },
  {
   "cell_type": "code",
   "execution_count": 13,
   "metadata": {},
   "outputs": [
    {
     "name": "stdout",
     "output_type": "stream",
     "text": [
      "tensor([0.26894142 0.5        0.73105858])\n"
     ]
    },
    {
     "ename": "UFuncTypeError",
     "evalue": "Cannot cast ufunc 'add' output from dtype('O') to dtype('float64') with casting rule 'same_kind'",
     "output_type": "error",
     "traceback": [
      "\u001b[0;31m---------------------------------------------------------------------------\u001b[0m",
      "\u001b[0;31mUFuncTypeError\u001b[0m                            Traceback (most recent call last)",
      "Cell \u001b[0;32mIn[13], line 8\u001b[0m\n\u001b[1;32m      5\u001b[0m \u001b[39mprint\u001b[39m(y)\n\u001b[1;32m      7\u001b[0m y\u001b[39m.\u001b[39mzero()\n\u001b[0;32m----> 8\u001b[0m y\u001b[39m.\u001b[39;49mback()\n\u001b[1;32m     10\u001b[0m x\u001b[39m.\u001b[39mgrad\n",
      "File \u001b[0;32m~/school/uni/year_3/optimization/fluxback/fluxback/tensor.py:31\u001b[0m, in \u001b[0;36mtensor.back\u001b[0;34m(self)\u001b[0m\n\u001b[1;32m     29\u001b[0m \u001b[39mif\u001b[39;00m dependant\u001b[39m.\u001b[39mgrad\u001b[39m.\u001b[39mshape \u001b[39m!=\u001b[39m gradient\u001b[39m.\u001b[39mshape:\n\u001b[1;32m     30\u001b[0m \tgradient \u001b[39m=\u001b[39m gradient\u001b[39m.\u001b[39msum()\n\u001b[0;32m---> 31\u001b[0m dependant\u001b[39m.\u001b[39;49mgrad \u001b[39m+\u001b[39;49m\u001b[39m=\u001b[39;49m gradient\n",
      "\u001b[0;31mUFuncTypeError\u001b[0m: Cannot cast ufunc 'add' output from dtype('O') to dtype('float64') with casting rule 'same_kind'"
     ]
    }
   ],
   "source": [
    "x = fb.tensor([-1., 0., 1.], requires_grad=True)\n",
    "\n",
    "y = act.sigmoid(x)\n",
    "\n",
    "print(y)\n",
    "\n",
    "y.zero()\n",
    "y.back()\n",
    "\n",
    "x.grad"
   ]
  },
  {
   "cell_type": "markdown",
   "metadata": {},
   "source": [
    "## Softmax"
   ]
  },
  {
   "cell_type": "code",
   "execution_count": null,
   "metadata": {},
   "outputs": [
    {
     "name": "stdout",
     "output_type": "stream",
     "text": [
      "tensor([0.00589975 0.11849965 0.8756006 ])\n"
     ]
    },
    {
     "data": {
      "text/plain": [
       "array([ 0.0162314 ,  0.32601639, -1.09344898])"
      ]
     },
     "execution_count": 26,
     "metadata": {},
     "output_type": "execute_result"
    }
   ],
   "source": [
    "x = fb.tensor([0., 3., 5.], requires_grad=True)\n",
    "\n",
    "ex = x.exp()\n",
    "\n",
    "y = ex / ex.sum()\n",
    "\n",
    "label = fb.tensor([0., 0., 1.])\n",
    "\n",
    "loss = abs(y - label).sum()\n",
    "\n",
    "print(y)\n",
    "\n",
    "loss.zero()\n",
    "loss.back()\n",
    "\n",
    "x.grad"
   ]
  },
  {
   "cell_type": "markdown",
   "metadata": {},
   "source": [
    "# Leaky ReLU"
   ]
  },
  {
   "cell_type": "code",
   "execution_count": null,
   "metadata": {},
   "outputs": [],
   "source": [
    "x = fb.tensor([0., -3., 5.], requires_grad=True)\n",
    "\n",
    "y = x.max(0.1 * x)\n",
    "\n",
    "print(y)"
   ]
  },
  {
   "cell_type": "markdown",
   "metadata": {},
   "source": [
    "# Tensor reshaping"
   ]
  },
  {
   "cell_type": "code",
   "execution_count": null,
   "metadata": {},
   "outputs": [
    {
     "data": {
      "text/plain": [
       "tensor([[1. 2.]\n",
       "        [3. 4.]])"
      ]
     },
     "execution_count": 12,
     "metadata": {},
     "output_type": "execute_result"
    }
   ],
   "source": [
    "a = fb.tensor([[1., 2.], [3., 4.]], requires_grad=True)\n",
    "a"
   ]
  }
 ],
 "metadata": {
  "kernelspec": {
   "display_name": "Python 3",
   "language": "python",
   "name": "python3"
  },
  "language_info": {
   "codemirror_mode": {
    "name": "ipython",
    "version": 3
   },
   "file_extension": ".py",
   "mimetype": "text/x-python",
   "name": "python",
   "nbconvert_exporter": "python",
   "pygments_lexer": "ipython3",
   "version": "3.11.4"
  },
  "orig_nbformat": 4
 },
 "nbformat": 4,
 "nbformat_minor": 2
}
