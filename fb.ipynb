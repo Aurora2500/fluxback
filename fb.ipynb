{
   "cells": [
      {
         "cell_type": "code",
         "execution_count": 3,
         "metadata": {},
         "outputs": [],
         "source": [
            "import fluxback as fb\n",
            "import fluxback.activation as act"
         ]
      },
      {
         "cell_type": "code",
         "execution_count": 21,
         "metadata": {},
         "outputs": [
            {
               "data": {
                  "text/plain": [
                     "tensor(16.0)"
                  ]
               },
               "execution_count": 21,
               "metadata": {},
               "output_type": "execute_result"
            }
         ],
         "source": [
            "x = fb.Tensor(2., requires_grad=True)\n",
            "y = fb.Tensor(3., requires_grad=True)\n",
            "\n",
            "z = (x*x) + 2.*(x*y)\n",
            "\n",
            "z"
         ]
      },
      {
         "cell_type": "code",
         "execution_count": 22,
         "metadata": {},
         "outputs": [],
         "source": [
            "z.zero()\n",
            "z.back()"
         ]
      },
      {
         "cell_type": "code",
         "execution_count": 23,
         "metadata": {},
         "outputs": [
            {
               "data": {
                  "text/plain": [
                     "array(10.)"
                  ]
               },
               "execution_count": 23,
               "metadata": {},
               "output_type": "execute_result"
            }
         ],
         "source": [
            "x.grad"
         ]
      },
      {
         "cell_type": "code",
         "execution_count": 24,
         "metadata": {},
         "outputs": [
            {
               "data": {
                  "text/plain": [
                     "array(4.)"
                  ]
               },
               "execution_count": 24,
               "metadata": {},
               "output_type": "execute_result"
            }
         ],
         "source": [
            "y.grad"
         ]
      },
      {
         "cell_type": "code",
         "execution_count": 3,
         "metadata": {},
         "outputs": [
            {
               "name": "stdout",
               "output_type": "stream",
               "text": [
                  "tensor(2.0)\n",
                  "10.0\n",
                  "tensor(1.0)\n"
               ]
            }
         ],
         "source": [
            "x = fb.Tensor(2., requires_grad=True)\n",
            "y = fb.Tensor(3., requires_grad=True)\n",
            "\n",
            "z = (x*x) + 2.*(x*y)\n",
            "\n",
            "z.zero()\n",
            "z.back()\n",
            "print(x)\n",
            "print(x.grad)\n",
            "x -= (0.1 * x.grad)\n",
            "print(x)"
         ]
      },
      {
         "cell_type": "code",
         "execution_count": null,
         "metadata": {},
         "outputs": [
            {
               "name": "stdout",
               "output_type": "stream",
               "text": [
                  "-1.0\n"
               ]
            }
         ],
         "source": [
            "y = fb.tensor.randn((), requires_grad=True)\n",
            "\n",
            "z = 1. - y\n",
            "\n",
            "z.zero()\n",
            "z.back()\n",
            "\n",
            "print(y.grad)"
         ]
      },
      {
         "attachments": {},
         "cell_type": "markdown",
         "metadata": {},
         "source": [
            "### Unary operators"
         ]
      },
      {
         "cell_type": "code",
         "execution_count": null,
         "metadata": {},
         "outputs": [
            {
               "data": {
                  "text/plain": [
                     "array(-1.)"
                  ]
               },
               "execution_count": 26,
               "metadata": {},
               "output_type": "execute_result"
            }
         ],
         "source": [
            "# negation\n",
            "a = fb.tensor(2., requires_grad=True)\n",
            "b = -a\n",
            "\n",
            "b.zero()\n",
            "b.back()\n",
            "\n",
            "a.grad"
         ]
      },
      {
         "cell_type": "code",
         "execution_count": null,
         "metadata": {},
         "outputs": [
            {
               "data": {
                  "text/plain": [
                     "array([ 1., -1.])"
                  ]
               },
               "execution_count": 27,
               "metadata": {},
               "output_type": "execute_result"
            }
         ],
         "source": [
            "# absolute value\n",
            "a = fb.tensor([3., -2.], requires_grad=True)\n",
            "\n",
            "b = abs(a).sum()\n",
            "\n",
            "b.zero()\n",
            "b.back()\n",
            "\n",
            "a.grad"
         ]
      },
      {
         "attachments": {},
         "cell_type": "markdown",
         "metadata": {},
         "source": [
            "## Softmax"
         ]
      },
      {
         "cell_type": "code",
         "execution_count": 1,
         "metadata": {},
         "outputs": [
            {
               "name": "stdout",
               "output_type": "stream",
               "text": [
                  "tensor([0.00589975 0.11849965 0.8756006 ])\n"
               ]
            },
            {
               "data": {
                  "text/plain": [
                     "array([ 0.01033165,  0.20751674, -0.21784839])"
                  ]
               },
               "execution_count": 28,
               "metadata": {},
               "output_type": "execute_result"
            }
         ],
         "source": [
            "import fluxback as fb\n",
            "x = fb.Tensor([0., 3., 5.], requires_grad=True)\n",
            "\n",
            "#sm = act.SoftMax()\n",
            "\n",
            "ex = x.exp()\n",
            "y = ex / ex.sum()\n",
            "\n",
            "#y = sm(x)\n",
            "\n",
            "label = fb.Tensor([0., 0., 1.], requires_grad=True)\n",
            "\n",
            "sub = y - label\n",
            "ab = abs(sub)\n",
            "\n",
            "loss = ab.sum()\n",
            "\n",
            "print(y)\n",
            "\n",
            "loss.zero()\n",
            "loss.back()\n",
            "\n",
            "x.grad"
         ]
      },
      {
         "cell_type": "code",
         "execution_count": 2,
         "metadata": {},
         "outputs": [
            {
               "data": {
                  "text/plain": [
                     "array([-1., -1.,  1.])"
                  ]
               },
               "execution_count": 2,
               "metadata": {},
               "output_type": "execute_result"
            }
         ],
         "source": [
            "label.grad"
         ]
      },
      {
         "cell_type": "code",
         "execution_count": 3,
         "metadata": {},
         "outputs": [
            {
               "data": {
                  "text/plain": [
                     "array([0.0117995 , 0.23699931, 1.75120119])"
                  ]
               },
               "execution_count": 3,
               "metadata": {},
               "output_type": "execute_result"
            }
         ],
         "source": [
            "import numpy as np\n",
            "j = np.outer(y.values, y.values) + np.diag(y.values)\n",
            "j.sum(axis=1)"
         ]
      },
      {
         "cell_type": "code",
         "execution_count": 4,
         "metadata": {},
         "outputs": [
            {
               "data": {
                  "image/svg+xml": [
                     "<?xml version=\"1.0\" encoding=\"UTF-8\" standalone=\"no\"?>\n",
                     "<!DOCTYPE svg PUBLIC \"-//W3C//DTD SVG 1.1//EN\"\n",
                     " \"http://www.w3.org/Graphics/SVG/1.1/DTD/svg11.dtd\">\n",
                     "<!-- Generated by graphviz version 9.0.0 (0)\n",
                     " -->\n",
                     "<!-- Pages: 1 -->\n",
                     "<svg width=\"199pt\" height=\"476pt\"\n",
                     " viewBox=\"0.00 0.00 199.01 476.00\" xmlns=\"http://www.w3.org/2000/svg\" xmlns:xlink=\"http://www.w3.org/1999/xlink\">\n",
                     "<g id=\"graph0\" class=\"graph\" transform=\"scale(1 1) rotate(0) translate(4 472)\">\n",
                     "<polygon fill=\"white\" stroke=\"none\" points=\"-4,4 -4,-472 195.01,-472 195.01,4 -4,4\"/>\n",
                     "<!-- 1 -->\n",
                     "<g id=\"node1\" class=\"node\">\n",
                     "<title>1</title>\n",
                     "<ellipse fill=\"none\" stroke=\"black\" cx=\"83.16\" cy=\"-18\" rx=\"33.85\" ry=\"18\"/>\n",
                     "<text text-anchor=\"middle\" x=\"83.16\" y=\"-13.32\" font-family=\"Times,serif\" font-size=\"14.00\">Sum</text>\n",
                     "</g>\n",
                     "<!-- 2 -->\n",
                     "<g id=\"node2\" class=\"node\">\n",
                     "<title>2</title>\n",
                     "<ellipse fill=\"none\" stroke=\"black\" cx=\"83.16\" cy=\"-90\" rx=\"29.64\" ry=\"18\"/>\n",
                     "<text text-anchor=\"middle\" x=\"83.16\" y=\"-85.33\" font-family=\"Times,serif\" font-size=\"14.00\">Abs</text>\n",
                     "</g>\n",
                     "<!-- 2&#45;&gt;1 -->\n",
                     "<g id=\"edge1\" class=\"edge\">\n",
                     "<title>2&#45;&gt;1</title>\n",
                     "<path fill=\"none\" stroke=\"black\" d=\"M83.16,-71.7C83.16,-64.41 83.16,-55.73 83.16,-47.54\"/>\n",
                     "<polygon fill=\"black\" stroke=\"black\" points=\"86.66,-47.62 83.16,-37.62 79.66,-47.62 86.66,-47.62\"/>\n",
                     "</g>\n",
                     "<!-- 3 -->\n",
                     "<g id=\"node3\" class=\"node\">\n",
                     "<title>3</title>\n",
                     "<ellipse fill=\"none\" stroke=\"black\" cx=\"83.16\" cy=\"-162\" rx=\"30.69\" ry=\"18\"/>\n",
                     "<text text-anchor=\"middle\" x=\"83.16\" y=\"-157.32\" font-family=\"Times,serif\" font-size=\"14.00\">Sub</text>\n",
                     "</g>\n",
                     "<!-- 3&#45;&gt;2 -->\n",
                     "<g id=\"edge2\" class=\"edge\">\n",
                     "<title>3&#45;&gt;2</title>\n",
                     "<path fill=\"none\" stroke=\"black\" d=\"M83.16,-143.7C83.16,-136.41 83.16,-127.73 83.16,-119.54\"/>\n",
                     "<polygon fill=\"black\" stroke=\"black\" points=\"86.66,-119.62 83.16,-109.62 79.66,-119.62 86.66,-119.62\"/>\n",
                     "</g>\n",
                     "<!-- 4 -->\n",
                     "<g id=\"node4\" class=\"node\">\n",
                     "<title>4</title>\n",
                     "<ellipse fill=\"none\" stroke=\"black\" cx=\"40.16\" cy=\"-234\" rx=\"40.16\" ry=\"18\"/>\n",
                     "<text text-anchor=\"middle\" x=\"40.16\" y=\"-229.32\" font-family=\"Times,serif\" font-size=\"14.00\">Const</text>\n",
                     "</g>\n",
                     "<!-- 4&#45;&gt;3 -->\n",
                     "<g id=\"edge4\" class=\"edge\">\n",
                     "<title>4&#45;&gt;3</title>\n",
                     "<path fill=\"none\" stroke=\"black\" d=\"M50.35,-216.41C55.33,-208.3 61.44,-198.35 67.04,-189.25\"/>\n",
                     "<polygon fill=\"black\" stroke=\"black\" points=\"70,-191.11 72.25,-180.76 64.03,-187.45 70,-191.11\"/>\n",
                     "</g>\n",
                     "<!-- 5 -->\n",
                     "<g id=\"node5\" class=\"node\">\n",
                     "<title>5</title>\n",
                     "<ellipse fill=\"none\" stroke=\"black\" cx=\"126.16\" cy=\"-234\" rx=\"28.06\" ry=\"18\"/>\n",
                     "<text text-anchor=\"middle\" x=\"126.16\" y=\"-229.32\" font-family=\"Times,serif\" font-size=\"14.00\">Div</text>\n",
                     "</g>\n",
                     "<!-- 5&#45;&gt;3 -->\n",
                     "<g id=\"edge3\" class=\"edge\">\n",
                     "<title>5&#45;&gt;3</title>\n",
                     "<path fill=\"none\" stroke=\"black\" d=\"M116.19,-216.76C111.09,-208.46 104.75,-198.15 99,-188.79\"/>\n",
                     "<polygon fill=\"black\" stroke=\"black\" points=\"102.09,-187.13 93.87,-180.44 96.12,-190.79 102.09,-187.13\"/>\n",
                     "</g>\n",
                     "<!-- 6 -->\n",
                     "<g id=\"node6\" class=\"node\">\n",
                     "<title>6</title>\n",
                     "<ellipse fill=\"none\" stroke=\"black\" cx=\"157.16\" cy=\"-306\" rx=\"33.85\" ry=\"18\"/>\n",
                     "<text text-anchor=\"middle\" x=\"157.16\" y=\"-301.32\" font-family=\"Times,serif\" font-size=\"14.00\">Sum</text>\n",
                     "</g>\n",
                     "<!-- 6&#45;&gt;5 -->\n",
                     "<g id=\"edge6\" class=\"edge\">\n",
                     "<title>6&#45;&gt;5</title>\n",
                     "<path fill=\"none\" stroke=\"black\" d=\"M149.66,-288.05C146.23,-280.32 142.08,-270.96 138.23,-262.27\"/>\n",
                     "<polygon fill=\"black\" stroke=\"black\" points=\"141.46,-260.9 134.21,-253.17 135.06,-263.73 141.46,-260.9\"/>\n",
                     "</g>\n",
                     "<!-- 7 -->\n",
                     "<g id=\"node7\" class=\"node\">\n",
                     "<title>7</title>\n",
                     "<ellipse fill=\"none\" stroke=\"black\" cx=\"126.16\" cy=\"-378\" rx=\"30.69\" ry=\"18\"/>\n",
                     "<text text-anchor=\"middle\" x=\"126.16\" y=\"-373.32\" font-family=\"Times,serif\" font-size=\"14.00\">Exp</text>\n",
                     "</g>\n",
                     "<!-- 7&#45;&gt;5 -->\n",
                     "<g id=\"edge5\" class=\"edge\">\n",
                     "<title>7&#45;&gt;5</title>\n",
                     "<path fill=\"none\" stroke=\"black\" d=\"M121.29,-359.98C118.6,-349.67 115.52,-336.19 114.16,-324 112.38,-308.1 112.38,-303.9 114.16,-288 115.08,-279.81 116.76,-271.04 118.59,-263.04\"/>\n",
                     "<polygon fill=\"black\" stroke=\"black\" points=\"121.95,-264.04 120.93,-253.49 115.15,-262.37 121.95,-264.04\"/>\n",
                     "</g>\n",
                     "<!-- 7&#45;&gt;6 -->\n",
                     "<g id=\"edge7\" class=\"edge\">\n",
                     "<title>7&#45;&gt;6</title>\n",
                     "<path fill=\"none\" stroke=\"black\" d=\"M133.66,-360.05C137.09,-352.32 141.24,-342.96 145.08,-334.27\"/>\n",
                     "<polygon fill=\"black\" stroke=\"black\" points=\"148.26,-335.73 149.11,-325.17 141.86,-332.9 148.26,-335.73\"/>\n",
                     "</g>\n",
                     "<!-- 8 -->\n",
                     "<g id=\"node8\" class=\"node\">\n",
                     "<title>8</title>\n",
                     "<ellipse fill=\"none\" stroke=\"black\" cx=\"126.16\" cy=\"-450\" rx=\"40.16\" ry=\"18\"/>\n",
                     "<text text-anchor=\"middle\" x=\"126.16\" y=\"-445.32\" font-family=\"Times,serif\" font-size=\"14.00\">Const</text>\n",
                     "</g>\n",
                     "<!-- 8&#45;&gt;7 -->\n",
                     "<g id=\"edge8\" class=\"edge\">\n",
                     "<title>8&#45;&gt;7</title>\n",
                     "<path fill=\"none\" stroke=\"black\" d=\"M126.16,-431.7C126.16,-424.41 126.16,-415.73 126.16,-407.54\"/>\n",
                     "<polygon fill=\"black\" stroke=\"black\" points=\"129.66,-407.62 126.16,-397.62 122.66,-407.62 129.66,-407.62\"/>\n",
                     "</g>\n",
                     "</g>\n",
                     "</svg>\n"
                  ],
                  "text/plain": [
                     "<graphviz.graphs.Digraph at 0x7f5510038950>"
                  ]
               },
               "execution_count": 4,
               "metadata": {},
               "output_type": "execute_result"
            }
         ],
         "source": [
            "loss.graphviz()"
         ]
      },
      {
         "attachments": {},
         "cell_type": "markdown",
         "metadata": {},
         "source": [
            "# Leaky ReLU"
         ]
      },
      {
         "cell_type": "code",
         "execution_count": null,
         "metadata": {},
         "outputs": [
            {
               "name": "stdout",
               "output_type": "stream",
               "text": [
                  "tensor([ 0.  -0.3  5. ])\n"
               ]
            }
         ],
         "source": [
            "x = fb.tensor([0., -3., 5.], requires_grad=True)\n",
            "\n",
            "y = x.max(0.1 * x)\n",
            "\n",
            "print(y)"
         ]
      },
      {
         "cell_type": "code",
         "execution_count": null,
         "metadata": {},
         "outputs": [],
         "source": [
            "z = y.sum()\n",
            "z.zero()\n",
            "z.back()"
         ]
      },
      {
         "cell_type": "code",
         "execution_count": null,
         "metadata": {},
         "outputs": [
            {
               "data": {
                  "image/svg+xml": [
                     "<?xml version=\"1.0\" encoding=\"UTF-8\" standalone=\"no\"?>\n",
                     "<!DOCTYPE svg PUBLIC \"-//W3C//DTD SVG 1.1//EN\"\n",
                     " \"http://www.w3.org/Graphics/SVG/1.1/DTD/svg11.dtd\">\n",
                     "<!-- Generated by graphviz version 9.0.0 (0)\n",
                     " -->\n",
                     "<!-- Pages: 1 -->\n",
                     "<svg width=\"186pt\" height=\"260pt\"\n",
                     " viewBox=\"0.00 0.00 186.32 260.00\" xmlns=\"http://www.w3.org/2000/svg\" xmlns:xlink=\"http://www.w3.org/1999/xlink\">\n",
                     "<g id=\"graph0\" class=\"graph\" transform=\"scale(1 1) rotate(0) translate(4 256)\">\n",
                     "<polygon fill=\"white\" stroke=\"none\" points=\"-4,4 -4,-256 182.32,-256 182.32,4 -4,4\"/>\n",
                     "<!-- 1 -->\n",
                     "<g id=\"node1\" class=\"node\">\n",
                     "<title>1</title>\n",
                     "<ellipse fill=\"none\" stroke=\"black\" cx=\"108.16\" cy=\"-18\" rx=\"33.85\" ry=\"18\"/>\n",
                     "<text text-anchor=\"middle\" x=\"108.16\" y=\"-13.32\" font-family=\"Times,serif\" font-size=\"14.00\">Sum</text>\n",
                     "</g>\n",
                     "<!-- 2 -->\n",
                     "<g id=\"node2\" class=\"node\">\n",
                     "<title>2</title>\n",
                     "<ellipse fill=\"none\" stroke=\"black\" cx=\"108.16\" cy=\"-90\" rx=\"32.79\" ry=\"18\"/>\n",
                     "<text text-anchor=\"middle\" x=\"108.16\" y=\"-85.33\" font-family=\"Times,serif\" font-size=\"14.00\">Max</text>\n",
                     "</g>\n",
                     "<!-- 2&#45;&gt;1 -->\n",
                     "<g id=\"edge1\" class=\"edge\">\n",
                     "<title>2&#45;&gt;1</title>\n",
                     "<path fill=\"none\" stroke=\"black\" d=\"M108.16,-71.7C108.16,-64.41 108.16,-55.73 108.16,-47.54\"/>\n",
                     "<polygon fill=\"black\" stroke=\"black\" points=\"111.66,-47.62 108.16,-37.62 104.66,-47.62 111.66,-47.62\"/>\n",
                     "</g>\n",
                     "<!-- 3 -->\n",
                     "<g id=\"node3\" class=\"node\">\n",
                     "<title>3</title>\n",
                     "<ellipse fill=\"none\" stroke=\"black\" cx=\"79.16\" cy=\"-162\" rx=\"30.69\" ry=\"18\"/>\n",
                     "<text text-anchor=\"middle\" x=\"79.16\" y=\"-157.32\" font-family=\"Times,serif\" font-size=\"14.00\">Mul</text>\n",
                     "</g>\n",
                     "<!-- 3&#45;&gt;2 -->\n",
                     "<g id=\"edge3\" class=\"edge\">\n",
                     "<title>3&#45;&gt;2</title>\n",
                     "<path fill=\"none\" stroke=\"black\" d=\"M86.18,-144.05C89.39,-136.32 93.26,-126.96 96.86,-118.27\"/>\n",
                     "<polygon fill=\"black\" stroke=\"black\" points=\"100.03,-119.77 100.62,-109.19 93.56,-117.09 100.03,-119.77\"/>\n",
                     "</g>\n",
                     "<!-- 4 -->\n",
                     "<g id=\"node4\" class=\"node\">\n",
                     "<title>4</title>\n",
                     "<ellipse fill=\"none\" stroke=\"black\" cx=\"40.16\" cy=\"-234\" rx=\"40.16\" ry=\"18\"/>\n",
                     "<text text-anchor=\"middle\" x=\"40.16\" y=\"-229.32\" font-family=\"Times,serif\" font-size=\"14.00\">Const</text>\n",
                     "</g>\n",
                     "<!-- 4&#45;&gt;3 -->\n",
                     "<g id=\"edge5\" class=\"edge\">\n",
                     "<title>4&#45;&gt;3</title>\n",
                     "<path fill=\"none\" stroke=\"black\" d=\"M49.6,-216.05C54.07,-208.03 59.52,-198.26 64.51,-189.3\"/>\n",
                     "<polygon fill=\"black\" stroke=\"black\" points=\"67.53,-191.07 69.34,-180.63 61.41,-187.66 67.53,-191.07\"/>\n",
                     "</g>\n",
                     "<!-- 5 -->\n",
                     "<g id=\"node5\" class=\"node\">\n",
                     "<title>5</title>\n",
                     "<ellipse fill=\"none\" stroke=\"black\" cx=\"138.16\" cy=\"-234\" rx=\"40.16\" ry=\"18\"/>\n",
                     "<text text-anchor=\"middle\" x=\"138.16\" y=\"-229.32\" font-family=\"Times,serif\" font-size=\"14.00\">Const</text>\n",
                     "</g>\n",
                     "<!-- 5&#45;&gt;2 -->\n",
                     "<g id=\"edge2\" class=\"edge\">\n",
                     "<title>5&#45;&gt;2</title>\n",
                     "<path fill=\"none\" stroke=\"black\" d=\"M134.48,-215.59C129.39,-191.5 120.15,-147.75 114.08,-119.03\"/>\n",
                     "<polygon fill=\"black\" stroke=\"black\" points=\"117.58,-118.65 112.09,-109.59 110.73,-120.1 117.58,-118.65\"/>\n",
                     "</g>\n",
                     "<!-- 5&#45;&gt;3 -->\n",
                     "<g id=\"edge4\" class=\"edge\">\n",
                     "<title>5&#45;&gt;3</title>\n",
                     "<path fill=\"none\" stroke=\"black\" d=\"M124.48,-216.76C117.07,-207.98 107.79,-196.96 99.55,-187.19\"/>\n",
                     "<polygon fill=\"black\" stroke=\"black\" points=\"102.46,-185.21 93.34,-179.82 97.11,-189.73 102.46,-185.21\"/>\n",
                     "</g>\n",
                     "</g>\n",
                     "</svg>\n"
                  ],
                  "text/plain": [
                     "<graphviz.graphs.Digraph at 0x7fb93003a650>"
                  ]
               },
               "execution_count": 17,
               "metadata": {},
               "output_type": "execute_result"
            }
         ],
         "source": [
            "z.graphviz()"
         ]
      },
      {
         "attachments": {},
         "cell_type": "markdown",
         "metadata": {},
         "source": [
            "# Tensor reshaping"
         ]
      },
      {
         "cell_type": "code",
         "execution_count": null,
         "metadata": {},
         "outputs": [
            {
               "data": {
                  "text/plain": [
                     "array([[1., 1.],\n",
                     "       [1., 1.]])"
                  ]
               },
               "execution_count": 18,
               "metadata": {},
               "output_type": "execute_result"
            }
         ],
         "source": [
            "a = fb.tensor([[1., 2.], [3., 4.]], requires_grad=True)\n",
            "b = a.reshape((4,)).sum()\n",
            "\n",
            "b.zero()\n",
            "b.back()\n",
            "a.grad"
         ]
      },
      {
         "attachments": {},
         "cell_type": "markdown",
         "metadata": {},
         "source": [
            "## Matrix multiplication"
         ]
      },
      {
         "cell_type": "code",
         "execution_count": null,
         "metadata": {},
         "outputs": [
            {
               "data": {
                  "text/plain": [
                     "array([[11., 11.],\n",
                     "       [11., 11.]])"
                  ]
               },
               "execution_count": 19,
               "metadata": {},
               "output_type": "execute_result"
            }
         ],
         "source": [
            "a = fb.tensor([[1., 2.], [3., 4.]], requires_grad=True)\n",
            "b = fb.tensor([5., 6.], requires_grad=True)\n",
            "\n",
            "c = a @ b\n",
            "\n",
            "g = c.sum()\n",
            "\n",
            "g.zero()\n",
            "g.back()\n",
            "\n",
            "a.grad"
         ]
      },
      {
         "cell_type": "code",
         "execution_count": null,
         "metadata": {},
         "outputs": [
            {
               "data": {
                  "text/plain": [
                     "array([4., 6.])"
                  ]
               },
               "execution_count": 20,
               "metadata": {},
               "output_type": "execute_result"
            }
         ],
         "source": [
            "b.grad"
         ]
      },
      {
         "attachments": {},
         "cell_type": "markdown",
         "metadata": {},
         "source": [
            "# Activation"
         ]
      },
      {
         "cell_type": "code",
         "execution_count": null,
         "metadata": {},
         "outputs": [
            {
               "data": {
                  "text/plain": [
                     "array([0.19661193, 0.25      , 0.19661193])"
                  ]
               },
               "execution_count": 21,
               "metadata": {},
               "output_type": "execute_result"
            }
         ],
         "source": [
            "x = fb.tensor([-1., 0., 1.], requires_grad=True)\n",
            "sigmoid = act.Sigmoid()\n",
            "y = sigmoid(x)\n",
            "z = y.sum()\n",
            "\n",
            "z.zero()\n",
            "z.back()\n",
            "\n",
            "x.grad"
         ]
      },
      {
         "cell_type": "code",
         "execution_count": null,
         "metadata": {},
         "outputs": [
            {
               "data": {
                  "text/plain": [
                     "(3,)"
                  ]
               },
               "execution_count": 22,
               "metadata": {},
               "output_type": "execute_result"
            }
         ],
         "source": [
            "(y.grad * y.values * (1. - y.values)).shape"
         ]
      },
      {
         "cell_type": "code",
         "execution_count": null,
         "metadata": {},
         "outputs": [
            {
               "data": {
                  "text/plain": [
                     "(3,)"
                  ]
               },
               "execution_count": 23,
               "metadata": {},
               "output_type": "execute_result"
            }
         ],
         "source": [
            "x.values.shape"
         ]
      },
      {
         "cell_type": "code",
         "execution_count": null,
         "metadata": {},
         "outputs": [
            {
               "data": {
                  "text/plain": [
                     "(3,)"
                  ]
               },
               "execution_count": 24,
               "metadata": {},
               "output_type": "execute_result"
            }
         ],
         "source": [
            "y.values.shape"
         ]
      },
      {
         "cell_type": "code",
         "execution_count": null,
         "metadata": {},
         "outputs": [
            {
               "data": {
                  "text/plain": [
                     "(3,)"
                  ]
               },
               "execution_count": 25,
               "metadata": {},
               "output_type": "execute_result"
            }
         ],
         "source": [
            "y.grad.shape"
         ]
      },
      {
         "cell_type": "code",
         "execution_count": null,
         "metadata": {},
         "outputs": [
            {
               "data": {
                  "image/svg+xml": [
                     "<?xml version=\"1.0\" encoding=\"UTF-8\" standalone=\"no\"?>\n",
                     "<!DOCTYPE svg PUBLIC \"-//W3C//DTD SVG 1.1//EN\"\n",
                     " \"http://www.w3.org/Graphics/SVG/1.1/DTD/svg11.dtd\">\n",
                     "<!-- Generated by graphviz version 9.0.0 (0)\n",
                     " -->\n",
                     "<!-- Pages: 1 -->\n",
                     "<svg width=\"186pt\" height=\"188pt\"\n",
                     " viewBox=\"0.00 0.00 186.32 188.00\" xmlns=\"http://www.w3.org/2000/svg\" xmlns:xlink=\"http://www.w3.org/1999/xlink\">\n",
                     "<g id=\"graph0\" class=\"graph\" transform=\"scale(1 1) rotate(0) translate(4 184)\">\n",
                     "<polygon fill=\"white\" stroke=\"none\" points=\"-4,4 -4,-184 182.32,-184 182.32,4 -4,4\"/>\n",
                     "<!-- 1 -->\n",
                     "<g id=\"node1\" class=\"node\">\n",
                     "<title>1</title>\n",
                     "<ellipse fill=\"none\" stroke=\"black\" cx=\"98.16\" cy=\"-18\" rx=\"30.69\" ry=\"18\"/>\n",
                     "<text text-anchor=\"middle\" x=\"98.16\" y=\"-13.32\" font-family=\"Times,serif\" font-size=\"14.00\">Add</text>\n",
                     "</g>\n",
                     "<!-- 2 -->\n",
                     "<g id=\"node2\" class=\"node\">\n",
                     "<title>2</title>\n",
                     "<ellipse fill=\"none\" stroke=\"black\" cx=\"59.16\" cy=\"-90\" rx=\"30.69\" ry=\"18\"/>\n",
                     "<text text-anchor=\"middle\" x=\"59.16\" y=\"-85.33\" font-family=\"Times,serif\" font-size=\"14.00\">Mul</text>\n",
                     "</g>\n",
                     "<!-- 2&#45;&gt;1 -->\n",
                     "<g id=\"edge2\" class=\"edge\">\n",
                     "<title>2&#45;&gt;1</title>\n",
                     "<path fill=\"none\" stroke=\"black\" d=\"M68.4,-72.41C72.92,-64.3 78.46,-54.35 83.54,-45.25\"/>\n",
                     "<polygon fill=\"black\" stroke=\"black\" points=\"86.44,-47.23 88.25,-36.79 80.32,-43.82 86.44,-47.23\"/>\n",
                     "</g>\n",
                     "<!-- 3 -->\n",
                     "<g id=\"node3\" class=\"node\">\n",
                     "<title>3</title>\n",
                     "<ellipse fill=\"none\" stroke=\"black\" cx=\"40.16\" cy=\"-162\" rx=\"40.16\" ry=\"18\"/>\n",
                     "<text text-anchor=\"middle\" x=\"40.16\" y=\"-157.32\" font-family=\"Times,serif\" font-size=\"14.00\">Const</text>\n",
                     "</g>\n",
                     "<!-- 3&#45;&gt;2 -->\n",
                     "<g id=\"edge4\" class=\"edge\">\n",
                     "<title>3&#45;&gt;2</title>\n",
                     "<path fill=\"none\" stroke=\"black\" d=\"M44.86,-143.7C46.88,-136.24 49.3,-127.32 51.57,-118.97\"/>\n",
                     "<polygon fill=\"black\" stroke=\"black\" points=\"54.88,-120.13 54.12,-109.57 48.12,-118.3 54.88,-120.13\"/>\n",
                     "</g>\n",
                     "<!-- 4 -->\n",
                     "<g id=\"node4\" class=\"node\">\n",
                     "<title>4</title>\n",
                     "<ellipse fill=\"none\" stroke=\"black\" cx=\"138.16\" cy=\"-162\" rx=\"40.16\" ry=\"18\"/>\n",
                     "<text text-anchor=\"middle\" x=\"138.16\" y=\"-157.32\" font-family=\"Times,serif\" font-size=\"14.00\">Const</text>\n",
                     "</g>\n",
                     "<!-- 4&#45;&gt;2 -->\n",
                     "<g id=\"edge3\" class=\"edge\">\n",
                     "<title>4&#45;&gt;2</title>\n",
                     "<path fill=\"none\" stroke=\"black\" d=\"M120.63,-145.46C109.9,-135.96 96.02,-123.66 84.15,-113.15\"/>\n",
                     "<polygon fill=\"black\" stroke=\"black\" points=\"86.5,-110.55 76.7,-106.54 81.86,-115.79 86.5,-110.55\"/>\n",
                     "</g>\n",
                     "<!-- 5 -->\n",
                     "<g id=\"node5\" class=\"node\">\n",
                     "<title>5</title>\n",
                     "<ellipse fill=\"none\" stroke=\"black\" cx=\"138.16\" cy=\"-90\" rx=\"30.69\" ry=\"18\"/>\n",
                     "<text text-anchor=\"middle\" x=\"138.16\" y=\"-85.33\" font-family=\"Times,serif\" font-size=\"14.00\">Mul</text>\n",
                     "</g>\n",
                     "<!-- 4&#45;&gt;5 -->\n",
                     "<g id=\"edge5\" class=\"edge\">\n",
                     "<title>4&#45;&gt;5</title>\n",
                     "<path fill=\"none\" stroke=\"black\" d=\"M132.28,-144.05C131.49,-136.57 131.24,-127.58 131.53,-119.14\"/>\n",
                     "<polygon fill=\"black\" stroke=\"black\" points=\"135.01,-119.51 132.2,-109.3 128.02,-119.04 135.01,-119.51\"/>\n",
                     "</g>\n",
                     "<!-- 4&#45;&gt;5 -->\n",
                     "<g id=\"edge6\" class=\"edge\">\n",
                     "<title>4&#45;&gt;5</title>\n",
                     "<path fill=\"none\" stroke=\"black\" d=\"M144.04,-144.05C144.83,-136.57 145.08,-127.58 144.79,-119.14\"/>\n",
                     "<polygon fill=\"black\" stroke=\"black\" points=\"148.29,-119.04 144.12,-109.3 141.31,-119.51 148.29,-119.04\"/>\n",
                     "</g>\n",
                     "<!-- 5&#45;&gt;1 -->\n",
                     "<g id=\"edge1\" class=\"edge\">\n",
                     "<title>5&#45;&gt;1</title>\n",
                     "<path fill=\"none\" stroke=\"black\" d=\"M128.68,-72.41C124.05,-64.3 118.36,-54.35 113.16,-45.25\"/>\n",
                     "<polygon fill=\"black\" stroke=\"black\" points=\"116.32,-43.73 108.32,-36.78 110.24,-47.2 116.32,-43.73\"/>\n",
                     "</g>\n",
                     "</g>\n",
                     "</svg>\n"
                  ],
                  "text/plain": [
                     "<graphviz.graphs.Digraph at 0x7fb9397cc290>"
                  ]
               },
               "execution_count": 26,
               "metadata": {},
               "output_type": "execute_result"
            }
         ],
         "source": [
            "x = fb.tensor(2., requires_grad=True)\n",
            "y = fb.tensor(3., requires_grad=True)\n",
            "\n",
            "z = (x*x) + (x*y)\n",
            "\n",
            "z.graphviz()"
         ]
      }
   ],
   "metadata": {
      "kernelspec": {
         "display_name": "Python 3",
         "language": "python",
         "name": "python3"
      },
      "language_info": {
         "codemirror_mode": {
            "name": "ipython",
            "version": 3
         },
         "file_extension": ".py",
         "mimetype": "text/x-python",
         "name": "python",
         "nbconvert_exporter": "python",
         "pygments_lexer": "ipython3",
         "version": "3.10.8"
      },
      "orig_nbformat": 4
   },
   "nbformat": 4,
   "nbformat_minor": 2
}
